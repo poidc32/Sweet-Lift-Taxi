{
 "cells": [
  {
   "cell_type": "markdown",
   "metadata": {},
   "source": [
    "# Descripción del proyecto\n",
    "\n",
    "La compañía Sweet Lift Taxi ha recopilado datos históricos sobre pedidos de taxis en los aeropuertos. Para atraer a más conductores durante las horas pico, necesitamos predecir la cantidad de pedidos de taxis para la próxima hora. Construye un modelo para dicha predicción.\n",
    "\n",
    "La métrica RECM en el conjunto de prueba no debe ser superior a 48.\n",
    "\n",
    "## Descripción de los datos\n",
    "\n",
    "Los datos se almacenan en el archivo `taxi.csv`. \t\n",
    "El número de pedidos está en la columna `num_orders`."
   ]
  },
  {
   "cell_type": "markdown",
   "metadata": {},
   "source": [
    "## Preparación"
   ]
  },
  {
   "cell_type": "code",
   "execution_count": 1,
   "metadata": {},
   "outputs": [],
   "source": [
    "# Se importan las librerías a utilizar\n",
    "import pandas as pd\n",
    "import numpy as np\n",
    "import matplotlib.pyplot as plt\n",
    "from sklearn.model_selection import train_test_split, GridSearchCV, cross_val_score\n",
    "from sklearn.linear_model import LinearRegression\n",
    "from sklearn.ensemble import RandomForestRegressor\n",
    "from sklearn.tree import DecisionTreeRegressor\n",
    "from sklearn.metrics import mean_squared_error\n",
    "from math import sqrt\n",
    "import catboost\n",
    "from catboost import CatBoostRegressor\n",
    "from sklearn.preprocessing import StandardScaler"
   ]
  },
  {
   "cell_type": "code",
   "execution_count": 2,
   "metadata": {},
   "outputs": [],
   "source": [
    "# Se carga el archivo\n",
    "df = pd.read_csv('/datasets/taxi.csv')"
   ]
  },
  {
   "cell_type": "code",
   "execution_count": 3,
   "metadata": {},
   "outputs": [
    {
     "name": "stdout",
     "output_type": "stream",
     "text": [
      "<class 'pandas.core.frame.DataFrame'>\n",
      "RangeIndex: 26496 entries, 0 to 26495\n",
      "Data columns (total 2 columns):\n",
      " #   Column      Non-Null Count  Dtype \n",
      "---  ------      --------------  ----- \n",
      " 0   datetime    26496 non-null  object\n",
      " 1   num_orders  26496 non-null  int64 \n",
      "dtypes: int64(1), object(1)\n",
      "memory usage: 414.1+ KB\n",
      "\n",
      "         num_orders\n",
      "count  26496.000000\n",
      "mean      14.070463\n",
      "std        9.211330\n",
      "min        0.000000\n",
      "25%        8.000000\n",
      "50%       13.000000\n",
      "75%       19.000000\n",
      "max      119.000000\n",
      "\n"
     ]
    },
    {
     "data": {
      "text/html": [
       "<div>\n",
       "<style scoped>\n",
       "    .dataframe tbody tr th:only-of-type {\n",
       "        vertical-align: middle;\n",
       "    }\n",
       "\n",
       "    .dataframe tbody tr th {\n",
       "        vertical-align: top;\n",
       "    }\n",
       "\n",
       "    .dataframe thead th {\n",
       "        text-align: right;\n",
       "    }\n",
       "</style>\n",
       "<table border=\"1\" class=\"dataframe\">\n",
       "  <thead>\n",
       "    <tr style=\"text-align: right;\">\n",
       "      <th></th>\n",
       "      <th>datetime</th>\n",
       "      <th>num_orders</th>\n",
       "    </tr>\n",
       "  </thead>\n",
       "  <tbody>\n",
       "    <tr>\n",
       "      <th>0</th>\n",
       "      <td>2018-03-01 00:00:00</td>\n",
       "      <td>9</td>\n",
       "    </tr>\n",
       "    <tr>\n",
       "      <th>1</th>\n",
       "      <td>2018-03-01 00:10:00</td>\n",
       "      <td>14</td>\n",
       "    </tr>\n",
       "    <tr>\n",
       "      <th>2</th>\n",
       "      <td>2018-03-01 00:20:00</td>\n",
       "      <td>28</td>\n",
       "    </tr>\n",
       "    <tr>\n",
       "      <th>3</th>\n",
       "      <td>2018-03-01 00:30:00</td>\n",
       "      <td>20</td>\n",
       "    </tr>\n",
       "    <tr>\n",
       "      <th>4</th>\n",
       "      <td>2018-03-01 00:40:00</td>\n",
       "      <td>32</td>\n",
       "    </tr>\n",
       "  </tbody>\n",
       "</table>\n",
       "</div>"
      ],
      "text/plain": [
       "              datetime  num_orders\n",
       "0  2018-03-01 00:00:00           9\n",
       "1  2018-03-01 00:10:00          14\n",
       "2  2018-03-01 00:20:00          28\n",
       "3  2018-03-01 00:30:00          20\n",
       "4  2018-03-01 00:40:00          32"
      ]
     },
     "execution_count": 3,
     "metadata": {},
     "output_type": "execute_result"
    }
   ],
   "source": [
    "# Se hace un análisis inicial de la información\n",
    "df.info()\n",
    "print()\n",
    "print(df.describe())\n",
    "print()\n",
    "df.head()"
   ]
  },
  {
   "cell_type": "code",
   "execution_count": 4,
   "metadata": {},
   "outputs": [],
   "source": [
    "# Se convierte el formato de la columna 'datetime' de object a datetime64\n",
    "df['datetime'] = pd.to_datetime(df['datetime'])"
   ]
  },
  {
   "cell_type": "code",
   "execution_count": 5,
   "metadata": {},
   "outputs": [],
   "source": [
    "# Establecemos la columna de fecha como índice\n",
    "df.set_index('datetime', inplace=True)"
   ]
  },
  {
   "cell_type": "code",
   "execution_count": 6,
   "metadata": {},
   "outputs": [
    {
     "name": "stdout",
     "output_type": "stream",
     "text": [
      "<class 'pandas.core.frame.DataFrame'>\n",
      "DatetimeIndex: 26496 entries, 2018-03-01 00:00:00 to 2018-08-31 23:50:00\n",
      "Data columns (total 1 columns):\n",
      " #   Column      Non-Null Count  Dtype\n",
      "---  ------      --------------  -----\n",
      " 0   num_orders  26496 non-null  int64\n",
      "dtypes: int64(1)\n",
      "memory usage: 414.0 KB\n"
     ]
    }
   ],
   "source": [
    "# Se verifica que el df este en orden cronológico\n",
    "df.index.is_monotonic_increasing\n",
    "df.info()"
   ]
  },
  {
   "cell_type": "code",
   "execution_count": 7,
   "metadata": {},
   "outputs": [
    {
     "name": "stdout",
     "output_type": "stream",
     "text": [
      "<class 'pandas.core.frame.DataFrame'>\n",
      "DatetimeIndex: 4416 entries, 2018-03-01 00:00:00 to 2018-08-31 23:00:00\n",
      "Freq: H\n",
      "Data columns (total 1 columns):\n",
      " #   Column      Non-Null Count  Dtype\n",
      "---  ------      --------------  -----\n",
      " 0   num_orders  4416 non-null   int64\n",
      "dtypes: int64(1)\n",
      "memory usage: 69.0 KB\n"
     ]
    }
   ],
   "source": [
    "# Remuestreo por hora \n",
    "# Agrupar por horas y sumar los pedidos\n",
    "df_r = df.resample('H').sum()  \n",
    "df_r.info()"
   ]
  },
  {
   "cell_type": "markdown",
   "metadata": {},
   "source": [
    "**En este punto, ya hemos preparado el DataFrame con los datos necesarios. Se ha reducido la cantidad de entradas, ya que ahora nos enfocaremos en analizar la información para predecir los viajes que se realizarán en la próxima hora.**"
   ]
  },
  {
   "cell_type": "markdown",
   "metadata": {},
   "source": [
    "## Análisis"
   ]
  },
  {
   "cell_type": "code",
   "execution_count": 8,
   "metadata": {
    "scrolled": false
   },
   "outputs": [
    {
     "data": {
      "image/png": "[encoded data removed]",
      "text/plain": [
       "<Figure size 1200x600 with 1 Axes>"
      ]
     },
     "metadata": {},
     "output_type": "display_data"
    }
   ],
   "source": [
    "# Visualizamos los datos de los pedidos\n",
    "df_r['num_orders'].plot(figsize=(12,6))\n",
    "plt.title('Pedidos de Taxis por Hora')\n",
    "plt.xlabel('Fecha')\n",
    "plt.ylabel('Número de Pedidos')\n",
    "plt.show()"
   ]
  },
  {
   "cell_type": "code",
   "execution_count": 9,
   "metadata": {},
   "outputs": [],
   "source": [
    "# Se crean una funcion para crear nuevas caracteristicas, obtener la media móvil y \n",
    "def make_features(data, max_lag, rolling_mean_size):\n",
    "    # Se crean características adicionales (hora, día de la semana, mes)\n",
    "    data['month'] = data.index.month\n",
    "    data['day'] = data.index.day\n",
    "    data['dayofweek'] = data.index.dayofweek\n",
    "\n",
    "    # Se calculan los valores de desfase\n",
    "    for lag in range(1, max_lag + 1):\n",
    "        data['lag_{}'.format(lag)] = data['num_orders'].shift(lag)\n",
    "\n",
    "    # Se calcula la media móvil\n",
    "    data['rolling_mean'] = (data['num_orders'].shift().rolling(rolling_mean_size).mean())\n",
    "\n",
    "\n",
    "make_features(df, 6, 10)"
   ]
  },
  {
   "cell_type": "code",
   "execution_count": 10,
   "metadata": {},
   "outputs": [],
   "source": [
    "# Se dividen los datos en entrenamiento y prueba\n",
    "train, test = train_test_split(df, shuffle=False, test_size=0.1)\n",
    "train = train.dropna()\n",
    "\n",
    "X_train = train.drop(columns=['num_orders'])\n",
    "y_train = train['num_orders']\n",
    "X_test = test.drop(columns=['num_orders'])\n",
    "y_test = test['num_orders']"
   ]
  },
  {
   "cell_type": "code",
   "execution_count": 11,
   "metadata": {},
   "outputs": [],
   "source": [
    "# Escalado de características\n",
    "scaler = StandardScaler()\n",
    "X_train_scaled = scaler.fit_transform(X_train)\n",
    "X_test_scaled = scaler.transform(X_test)"
   ]
  },
  {
   "cell_type": "markdown",
   "metadata": {},
   "source": [
    "**En este punto, los datos ya están preparados, lo que nos permite proceder con el entrenamiento de varios modelos.**"
   ]
  },
  {
   "cell_type": "markdown",
   "metadata": {},
   "source": [
    "## Formación"
   ]
  },
  {
   "cell_type": "markdown",
   "metadata": {},
   "source": [
    "### Regresión lineal"
   ]
  },
  {
   "cell_type": "code",
   "execution_count": 12,
   "metadata": {},
   "outputs": [
    {
     "name": "stdout",
     "output_type": "stream",
     "text": [
      "RMSE de Linear Regression: 8.427563179292026\n"
     ]
    }
   ],
   "source": [
    "# Entrenamiento de modelo\n",
    "lr = LinearRegression()\n",
    "lr.fit(X_train_scaled, y_train)\n",
    "\n",
    "# Predicciones  con el conjutno de prueba\n",
    "y_pred_lr = lr.predict(X_test_scaled)\n",
    "\n",
    "# Evaluación del modelo\n",
    "mse_lr = mean_squared_error(y_test, y_pred_lr)\n",
    "rmse_lr = sqrt(mse_lr)\n",
    "print(f'RMSE de Linear Regression: {rmse_lr}')"
   ]
  },
  {
   "cell_type": "markdown",
   "metadata": {},
   "source": [
    "### Bosque aleatorio"
   ]
  },
  {
   "cell_type": "code",
   "execution_count": 13,
   "metadata": {},
   "outputs": [
    {
     "name": "stdout",
     "output_type": "stream",
     "text": [
      "RMSE de Random Forest: 8.501417306693519\n"
     ]
    }
   ],
   "source": [
    "# 2. Random Forest Regressor\n",
    "rf = RandomForestRegressor(n_estimators=150, max_depth=10, random_state=12345)\n",
    "rf.fit(X_train_scaled, y_train)\n",
    "\n",
    "# Predicciones del conjunto de prueba\n",
    "y_pred_rf = rf.predict(X_test_scaled)\n",
    "\n",
    "# Evaluacion del modelo\n",
    "mse_rf = mean_squared_error(y_test, y_pred_rf)\n",
    "rmse_rf = sqrt(mse_rf)\n",
    "print(f'RMSE de Random Forest: {rmse_rf}')"
   ]
  },
  {
   "cell_type": "markdown",
   "metadata": {},
   "source": [
    "### Árbol de desición"
   ]
  },
  {
   "cell_type": "code",
   "execution_count": 14,
   "metadata": {},
   "outputs": [
    {
     "name": "stdout",
     "output_type": "stream",
     "text": [
      "RMSE de Decision Tree: 9.898452519257905\n"
     ]
    }
   ],
   "source": [
    "# Entrenamiento de modelo\n",
    "dt = DecisionTreeRegressor(max_depth=10, random_state=12345)\n",
    "dt.fit(X_train_scaled, y_train)\n",
    "\n",
    "# Predicciones del conjunto de prueba\n",
    "y_pred_dt = dt.predict(X_test_scaled)\n",
    "\n",
    "# Evaluacion del modelo\n",
    "mse_dt = mean_squared_error(y_test, y_pred_dt)\n",
    "rmse_dt = sqrt(mse_dt)\n",
    "print(f'RMSE de Decision Tree: {rmse_dt}')"
   ]
  },
  {
   "cell_type": "markdown",
   "metadata": {},
   "source": [
    "### CatBoost"
   ]
  },
  {
   "cell_type": "code",
   "execution_count": 15,
   "metadata": {},
   "outputs": [
    {
     "name": "stdout",
     "output_type": "stream",
     "text": [
      "0:\tlearn: 7.9487929\ttotal: 59.6ms\tremaining: 59.5s\n",
      "200:\tlearn: 5.1970145\ttotal: 2.19s\tremaining: 8.72s\n",
      "400:\tlearn: 4.8427935\ttotal: 4.27s\tremaining: 6.38s\n",
      "600:\tlearn: 4.5081474\ttotal: 6.4s\tremaining: 4.25s\n",
      "800:\tlearn: 4.1963289\ttotal: 8.55s\tremaining: 2.12s\n",
      "999:\tlearn: 3.9298208\ttotal: 10.7s\tremaining: 0us\n",
      "RMSE de CatBoost: 8.67978758290601\n"
     ]
    }
   ],
   "source": [
    "# Entrenamiento de modelo\n",
    "catboost_model = CatBoostRegressor(iterations=1000, learning_rate=0.05, depth=10, verbose=200, random_seed=12345)\n",
    "catboost_model.fit(X_train, y_train)\n",
    "\n",
    "# Predicciones del conjunto de prueba\n",
    "y_pred_cat = catboost_model.predict(X_test)\n",
    "\n",
    "# Evaluación del modelo\n",
    "mse_cat = mean_squared_error(y_test, y_pred_cat)\n",
    "rmse_cat = sqrt(mse_cat)\n",
    "print(f'RMSE de CatBoost: {rmse_cat}')"
   ]
  },
  {
   "cell_type": "markdown",
   "metadata": {},
   "source": [
    "Entre los modelos evaluados para predecir los pedidos de taxis, Linear Regression (RMSE: 8.43) y Random Forest (RMSE: 8.50) ofrecieron los mejores resultados, con errores de predicción muy similares y bajos. CatBoost también mostró un buen rendimiento (RMSE: 8.68), pero no superó a los modelos anteriores. Decision Tree presentó el peor rendimiento (RMSE: 9.90) y requiere ajustes para mejorar su precisión.\n",
    "\n",
    "En resumen, Linear Regression y Random Forest son los modelos más adecuados, con Linear Regression ligeramente superior.\n",
    "\n"
   ]
  },
  {
   "cell_type": "code",
   "execution_count": 18,
   "metadata": {},
   "outputs": [],
   "source": [
    "# Se hace una funcion para el cálculo de RECM\n",
    "def calculate_rec_error(y_true, y_pred, threshold):\n",
    "    errors = np.abs(y_pred - y_true)\n",
    "    sqrt_errors = np.sqrt(errors)\n",
    "    error_count = np.sum(sqrt_errors > threshold)\n",
    "    return (error_count / len(y_true)) * 100  # Retorna el porcentaje de errores"
   ]
  },
  {
   "cell_type": "code",
   "execution_count": 19,
   "metadata": {},
   "outputs": [],
   "source": [
    "# Calcular RECM para cada modelo\n",
    "rec_lr = calculate_rec_error(y_test, y_pred_lr, 48)\n",
    "rec_rf = calculate_rec_error(y_test, y_pred_rf, 48)\n",
    "rec_dt = calculate_rec_error(y_test, y_pred_dt, 48)\n",
    "rec_cat = calculate_rec_error(y_test, y_pred_cat, 48)"
   ]
  },
  {
   "cell_type": "code",
   "execution_count": 20,
   "metadata": {},
   "outputs": [
    {
     "name": "stdout",
     "output_type": "stream",
     "text": [
      "RECM de Linear Regression: 0.0\n",
      "RECM de Random Forest: 0.0\n",
      "RECM de Decision Tree: 0.0\n",
      "RECM de CatBoost: 0.0\n"
     ]
    }
   ],
   "source": [
    "print(f'RECM de Linear Regression: {rec_lr}')\n",
    "print(f'RECM de Random Forest: {rec_rf}')\n",
    "print(f'RECM de Decision Tree: {rec_dt}')\n",
    "print(f'RECM de CatBoost: {rec_cat}')"
   ]
  },
  {
   "cell_type": "markdown",
   "metadata": {},
   "source": [
    "Todos los modelos evaluados —Linear Regression, Random Forest, Decision Tree y CatBoost— han alcanzado un RECM de 0.0, lo que significa que todos lograron mantener el error (RMSE) por debajo del umbral de 48 establecido. Esto indica que, en términos de la métrica RECM, todos los modelos han cumplido con el objetivo de error definido, lo que sugiere que su rendimiento es satisfactorio para la tarea de predicción de pedidos de taxis.\n",
    "\n",
    "En resumen, todos los modelos son aptos para su uso, ya que ninguno ha excedido el umbral de error permitido, con RECM igual a 0.0 en todos los casos."
   ]
  },
  {
   "cell_type": "markdown",
   "metadata": {},
   "source": [
    "## Prueba"
   ]
  },
  {
   "cell_type": "code",
   "execution_count": 21,
   "metadata": {},
   "outputs": [
    {
     "name": "stdout",
     "output_type": "stream",
     "text": [
      "RMSE de Linear Regression: 8.427563179292026\n"
     ]
    }
   ],
   "source": [
    "# Predicciones  con el conjutno de prueba\n",
    "y_pred_lr = lr.predict(X_test_scaled)\n",
    "\n",
    "# Evaluación del modelo\n",
    "mse_lr = mean_squared_error(y_test, y_pred_lr)\n",
    "rmse_lr = sqrt(mse_lr)\n",
    "print(f'RMSE de Linear Regression: {rmse_lr}')"
   ]
  },
  {
   "cell_type": "markdown",
   "metadata": {},
   "source": [
    "Luego de evaluar los diferentes modelos, Linear Regression se consideró la mejor opción debido a su precisión y simplicidad, con un RMSE más bajo y sin superar el umbral de error permitido. Este modelo es el más adecuado para la tarea de predicción de pedidos de taxis, considerando su rendimiento y facilidad de implementación.\n",
    "\n",
    "Si en el futuro se busca mejorar aún más la precisión, podría ser útil explorar ajustes en otros modelos más complejos, pero Linear Regression es la opción más eficaz para este caso en particular."
   ]
  },
  {
   "cell_type": "markdown",
   "metadata": {},
   "source": [
    "# Lista de revisión"
   ]
  },
  {
   "cell_type": "markdown",
   "metadata": {},
   "source": [
    "- [x]  \t\n",
    "Jupyter Notebook está abierto.\n",
    "- [x]  El código no tiene errores\n",
    "- [x]  Las celdas con el código han sido colocadas en el orden de ejecución.\n",
    "- [x]  \t\n",
    "Los datos han sido descargados y preparados.\n",
    "- [x]  Se ha realizado el paso 2: los datos han sido analizados\n",
    "- [x]  Se entrenó el modelo y se seleccionaron los hiperparámetros\n",
    "- [x]  Se han evaluado los modelos. Se expuso una conclusión\n",
    "- [x] La *RECM* para el conjunto de prueba no es más de 48"
   ]
  }
 ],
 "metadata": {
  "ExecuteTimeLog": [
   {
    "duration": 2763,
    "start_time": "2025-02-06T05:31:55.281Z"
   },
   {
    "duration": 27,
    "start_time": "2025-02-06T05:33:20.459Z"
   },
   {
    "duration": 18,
    "start_time": "2025-02-06T05:33:56.915Z"
   },
   {
    "duration": 17,
    "start_time": "2025-02-06T05:34:18.216Z"
   },
   {
    "duration": 18,
    "start_time": "2025-02-06T05:34:32.561Z"
   },
   {
    "duration": 684,
    "start_time": "2025-02-06T05:38:18.955Z"
   },
   {
    "duration": 13,
    "start_time": "2025-02-06T05:39:00.413Z"
   },
   {
    "duration": 3,
    "start_time": "2025-02-06T05:45:15.274Z"
   },
   {
    "duration": 43,
    "start_time": "2025-02-06T05:46:17.865Z"
   },
   {
    "duration": 992,
    "start_time": "2025-02-06T05:46:44.383Z"
   },
   {
    "duration": 18,
    "start_time": "2025-02-06T05:46:45.377Z"
   },
   {
    "duration": 19,
    "start_time": "2025-02-06T05:46:45.397Z"
   },
   {
    "duration": 6,
    "start_time": "2025-02-06T05:46:45.417Z"
   },
   {
    "duration": 4,
    "start_time": "2025-02-06T05:46:45.426Z"
   },
   {
    "duration": 9,
    "start_time": "2025-02-06T05:46:50.387Z"
   },
   {
    "duration": 2,
    "start_time": "2025-02-06T05:47:40.598Z"
   },
   {
    "duration": 231,
    "start_time": "2025-02-06T05:48:08.099Z"
   },
   {
    "duration": 2,
    "start_time": "2025-02-06T05:48:14.075Z"
   },
   {
    "duration": 3,
    "start_time": "2025-02-06T05:48:33.515Z"
   },
   {
    "duration": 8,
    "start_time": "2025-02-06T05:49:58.896Z"
   },
   {
    "duration": 7,
    "start_time": "2025-02-06T05:51:59.663Z"
   },
   {
    "duration": 11,
    "start_time": "2025-02-06T05:52:45.357Z"
   },
   {
    "duration": 16,
    "start_time": "2025-02-06T05:53:58.299Z"
   },
   {
    "duration": 21,
    "start_time": "2025-02-06T05:56:32.466Z"
   },
   {
    "duration": 16,
    "start_time": "2025-02-06T05:56:58.100Z"
   },
   {
    "duration": 163,
    "start_time": "2025-02-07T05:18:01.276Z"
   },
   {
    "duration": 2676,
    "start_time": "2025-02-07T05:18:11.286Z"
   },
   {
    "duration": 27,
    "start_time": "2025-02-07T05:18:13.964Z"
   },
   {
    "duration": 19,
    "start_time": "2025-02-07T05:18:13.993Z"
   },
   {
    "duration": 10,
    "start_time": "2025-02-07T05:18:14.014Z"
   },
   {
    "duration": 4,
    "start_time": "2025-02-07T05:18:14.026Z"
   },
   {
    "duration": 8,
    "start_time": "2025-02-07T05:18:14.031Z"
   },
   {
    "duration": 11,
    "start_time": "2025-02-07T05:18:14.041Z"
   },
   {
    "duration": 6,
    "start_time": "2025-02-07T05:18:14.053Z"
   },
   {
    "duration": 290,
    "start_time": "2025-02-07T05:18:18.436Z"
   },
   {
    "duration": 7,
    "start_time": "2025-02-07T05:21:27.299Z"
   },
   {
    "duration": 238,
    "start_time": "2025-02-07T05:21:38.833Z"
   },
   {
    "duration": 4,
    "start_time": "2025-02-07T05:21:47.088Z"
   },
   {
    "duration": 4,
    "start_time": "2025-02-07T05:22:00.437Z"
   },
   {
    "duration": 1011,
    "start_time": "2025-02-07T05:22:07.970Z"
   },
   {
    "duration": 18,
    "start_time": "2025-02-07T05:22:08.983Z"
   },
   {
    "duration": 32,
    "start_time": "2025-02-07T05:22:09.003Z"
   },
   {
    "duration": 6,
    "start_time": "2025-02-07T05:22:09.038Z"
   },
   {
    "duration": 3,
    "start_time": "2025-02-07T05:22:09.046Z"
   },
   {
    "duration": 8,
    "start_time": "2025-02-07T05:22:09.051Z"
   },
   {
    "duration": 10,
    "start_time": "2025-02-07T05:22:09.062Z"
   },
   {
    "duration": 259,
    "start_time": "2025-02-07T05:22:09.073Z"
   },
   {
    "duration": 7,
    "start_time": "2025-02-07T05:22:09.334Z"
   },
   {
    "duration": 3,
    "start_time": "2025-02-07T05:22:09.343Z"
   },
   {
    "duration": 4,
    "start_time": "2025-02-07T05:22:14.022Z"
   },
   {
    "duration": 11,
    "start_time": "2025-02-07T05:31:52.062Z"
   },
   {
    "duration": 984,
    "start_time": "2025-02-07T05:32:58.675Z"
   },
   {
    "duration": 17,
    "start_time": "2025-02-07T05:32:59.662Z"
   },
   {
    "duration": 20,
    "start_time": "2025-02-07T05:32:59.680Z"
   },
   {
    "duration": 5,
    "start_time": "2025-02-07T05:32:59.704Z"
   },
   {
    "duration": 3,
    "start_time": "2025-02-07T05:32:59.725Z"
   },
   {
    "duration": 8,
    "start_time": "2025-02-07T05:32:59.729Z"
   },
   {
    "duration": 10,
    "start_time": "2025-02-07T05:32:59.739Z"
   },
   {
    "duration": 254,
    "start_time": "2025-02-07T05:32:59.751Z"
   },
   {
    "duration": 13,
    "start_time": "2025-02-07T05:33:00.006Z"
   },
   {
    "duration": 4,
    "start_time": "2025-02-07T05:33:00.020Z"
   },
   {
    "duration": 1006,
    "start_time": "2025-02-07T05:37:05.156Z"
   },
   {
    "duration": 17,
    "start_time": "2025-02-07T05:37:06.165Z"
   },
   {
    "duration": 19,
    "start_time": "2025-02-07T05:37:06.184Z"
   },
   {
    "duration": 19,
    "start_time": "2025-02-07T05:37:06.205Z"
   },
   {
    "duration": 3,
    "start_time": "2025-02-07T05:37:06.226Z"
   },
   {
    "duration": 8,
    "start_time": "2025-02-07T05:37:06.231Z"
   },
   {
    "duration": 12,
    "start_time": "2025-02-07T05:37:06.240Z"
   },
   {
    "duration": 263,
    "start_time": "2025-02-07T05:37:06.254Z"
   },
   {
    "duration": 12,
    "start_time": "2025-02-07T05:37:06.519Z"
   },
   {
    "duration": 10,
    "start_time": "2025-02-07T05:37:06.534Z"
   },
   {
    "duration": 19,
    "start_time": "2025-02-07T05:43:25.500Z"
   },
   {
    "duration": 4639,
    "start_time": "2025-02-07T05:46:06.434Z"
   },
   {
    "duration": 6766,
    "start_time": "2025-02-07T05:46:22.914Z"
   },
   {
    "duration": 6921,
    "start_time": "2025-02-07T05:46:44.847Z"
   },
   {
    "duration": 77,
    "start_time": "2025-02-07T05:48:15.150Z"
   },
   {
    "duration": 10952,
    "start_time": "2025-02-07T05:50:47.141Z"
   },
   {
    "duration": 10981,
    "start_time": "2025-02-07T05:52:20.400Z"
   },
   {
    "duration": 4,
    "start_time": "2025-02-07T05:59:14.217Z"
   },
   {
    "duration": 1105,
    "start_time": "2025-02-07T05:59:31.239Z"
   },
   {
    "duration": 16,
    "start_time": "2025-02-07T05:59:32.347Z"
   },
   {
    "duration": 19,
    "start_time": "2025-02-07T05:59:32.365Z"
   },
   {
    "duration": 7,
    "start_time": "2025-02-07T05:59:32.387Z"
   },
   {
    "duration": 28,
    "start_time": "2025-02-07T05:59:32.396Z"
   },
   {
    "duration": 8,
    "start_time": "2025-02-07T05:59:32.427Z"
   },
   {
    "duration": 12,
    "start_time": "2025-02-07T05:59:32.438Z"
   },
   {
    "duration": 253,
    "start_time": "2025-02-07T05:59:32.452Z"
   },
   {
    "duration": 12,
    "start_time": "2025-02-07T05:59:32.707Z"
   },
   {
    "duration": 12,
    "start_time": "2025-02-07T05:59:32.722Z"
   },
   {
    "duration": 13,
    "start_time": "2025-02-07T05:59:32.736Z"
   },
   {
    "duration": 7154,
    "start_time": "2025-02-07T05:59:32.751Z"
   },
   {
    "duration": 85,
    "start_time": "2025-02-07T05:59:39.907Z"
   },
   {
    "duration": 10920,
    "start_time": "2025-02-07T05:59:39.995Z"
   },
   {
    "duration": 229,
    "start_time": "2025-02-07T05:59:50.917Z"
   },
   {
    "duration": 1012,
    "start_time": "2025-02-07T06:00:35.721Z"
   },
   {
    "duration": 17,
    "start_time": "2025-02-07T06:00:36.736Z"
   },
   {
    "duration": 20,
    "start_time": "2025-02-07T06:00:36.755Z"
   },
   {
    "duration": 6,
    "start_time": "2025-02-07T06:00:36.777Z"
   },
   {
    "duration": 3,
    "start_time": "2025-02-07T06:00:36.787Z"
   },
   {
    "duration": 34,
    "start_time": "2025-02-07T06:00:36.791Z"
   },
   {
    "duration": 11,
    "start_time": "2025-02-07T06:00:36.827Z"
   },
   {
    "duration": 235,
    "start_time": "2025-02-07T06:00:36.841Z"
   },
   {
    "duration": 12,
    "start_time": "2025-02-07T06:00:37.078Z"
   },
   {
    "duration": 10,
    "start_time": "2025-02-07T06:00:37.091Z"
   },
   {
    "duration": 3,
    "start_time": "2025-02-07T06:00:37.103Z"
   },
   {
    "duration": 0,
    "start_time": "2025-02-07T06:00:37.108Z"
   },
   {
    "duration": 0,
    "start_time": "2025-02-07T06:00:37.109Z"
   },
   {
    "duration": 0,
    "start_time": "2025-02-07T06:00:37.110Z"
   },
   {
    "duration": 0,
    "start_time": "2025-02-07T06:00:37.111Z"
   },
   {
    "duration": 0,
    "start_time": "2025-02-07T06:00:37.112Z"
   },
   {
    "duration": 10,
    "start_time": "2025-02-07T06:00:45.786Z"
   },
   {
    "duration": 17,
    "start_time": "2025-02-07T06:01:33.431Z"
   },
   {
    "duration": 7174,
    "start_time": "2025-02-07T06:02:04.003Z"
   },
   {
    "duration": 6925,
    "start_time": "2025-02-07T06:02:21.277Z"
   },
   {
    "duration": 75,
    "start_time": "2025-02-07T06:02:52.689Z"
   },
   {
    "duration": 10856,
    "start_time": "2025-02-07T06:03:23.122Z"
   },
   {
    "duration": 3,
    "start_time": "2025-02-07T06:06:26.013Z"
   },
   {
    "duration": 4,
    "start_time": "2025-02-07T06:06:38.112Z"
   },
   {
    "duration": 4,
    "start_time": "2025-02-07T06:06:52.889Z"
   },
   {
    "duration": 3,
    "start_time": "2025-02-07T06:07:04.723Z"
   },
   {
    "duration": 2,
    "start_time": "2025-02-07T06:08:00.534Z"
   },
   {
    "duration": 23,
    "start_time": "2025-02-07T06:08:03.033Z"
   },
   {
    "duration": 1017,
    "start_time": "2025-02-07T06:08:13.290Z"
   },
   {
    "duration": 21,
    "start_time": "2025-02-07T06:08:14.309Z"
   },
   {
    "duration": 18,
    "start_time": "2025-02-07T06:08:14.332Z"
   },
   {
    "duration": 7,
    "start_time": "2025-02-07T06:08:14.351Z"
   },
   {
    "duration": 3,
    "start_time": "2025-02-07T06:08:14.360Z"
   },
   {
    "duration": 7,
    "start_time": "2025-02-07T06:08:14.365Z"
   },
   {
    "duration": 10,
    "start_time": "2025-02-07T06:08:14.374Z"
   },
   {
    "duration": 259,
    "start_time": "2025-02-07T06:08:14.385Z"
   },
   {
    "duration": 13,
    "start_time": "2025-02-07T06:08:14.646Z"
   },
   {
    "duration": 10,
    "start_time": "2025-02-07T06:08:14.660Z"
   },
   {
    "duration": 9,
    "start_time": "2025-02-07T06:08:14.671Z"
   },
   {
    "duration": 8,
    "start_time": "2025-02-07T06:08:14.681Z"
   },
   {
    "duration": 7053,
    "start_time": "2025-02-07T06:08:14.691Z"
   },
   {
    "duration": 83,
    "start_time": "2025-02-07T06:08:21.748Z"
   },
   {
    "duration": 10958,
    "start_time": "2025-02-07T06:08:21.833Z"
   },
   {
    "duration": 3,
    "start_time": "2025-02-07T06:08:32.793Z"
   },
   {
    "duration": 244,
    "start_time": "2025-02-07T06:08:32.797Z"
   },
   {
    "duration": 0,
    "start_time": "2025-02-07T06:08:33.043Z"
   },
   {
    "duration": 3,
    "start_time": "2025-02-07T06:13:07.946Z"
   },
   {
    "duration": 6,
    "start_time": "2025-02-07T06:13:10.062Z"
   },
   {
    "duration": 3,
    "start_time": "2025-02-07T06:13:12.424Z"
   },
   {
    "duration": 4,
    "start_time": "2025-02-07T06:17:33.139Z"
   }
  ],
  "kernelspec": {
   "display_name": "Python 3 (ipykernel)",
   "language": "python",
   "name": "python3"
  },
  "language_info": {
   "codemirror_mode": {
    "name": "ipython",
    "version": 3
   },
   "file_extension": ".py",
   "mimetype": "text/x-python",
   "name": "python",
   "nbconvert_exporter": "python",
   "pygments_lexer": "ipython3",
   "version": "3.9.19"
  },
  "toc": {
   "base_numbering": 1,
   "nav_menu": {},
   "number_sections": true,
   "sideBar": true,
   "skip_h1_title": true,
   "title_cell": "Table of Contents",
   "title_sidebar": "Contents",
   "toc_cell": false,
   "toc_position": {},
   "toc_section_display": true,
   "toc_window_display": false
  }
 },
 "nbformat": 4,
 "nbformat_minor": 2
}
